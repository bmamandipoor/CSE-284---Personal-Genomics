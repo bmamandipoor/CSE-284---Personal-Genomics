{
 "cells": [
  {
   "cell_type": "markdown",
   "id": "73c458b1",
   "metadata": {},
   "source": [
    "### Import"
   ]
  },
  {
   "cell_type": "code",
   "execution_count": 1,
   "id": "b3fe8854",
   "metadata": {},
   "outputs": [
    {
     "name": "stderr",
     "output_type": "stream",
     "text": [
      "Global seed set to 13\n",
      "2024-03-05 15:11:23.985061: I tensorflow/core/platform/cpu_feature_guard.cc:193] This TensorFlow binary is optimized with oneAPI Deep Neural Network Library (oneDNN) to use the following CPU instructions in performance-critical operations:  AVX2 AVX512F AVX512_VNNI FMA\n",
      "To enable them in other operations, rebuild TensorFlow with the appropriate compiler flags.\n",
      "2024-03-05 15:11:24.077604: I tensorflow/core/util/port.cc:104] oneDNN custom operations are on. You may see slightly different numerical results due to floating-point round-off errors from different computation orders. To turn them off, set the environment variable `TF_ENABLE_ONEDNN_OPTS=0`.\n",
      "2024-03-05 15:11:24.080040: W tensorflow/compiler/xla/stream_executor/platform/default/dso_loader.cc:64] Could not load dynamic library 'libcudart.so.11.0'; dlerror: libcudart.so.11.0: cannot open shared object file: No such file or directory\n",
      "2024-03-05 15:11:24.080049: I tensorflow/compiler/xla/stream_executor/cuda/cudart_stub.cc:29] Ignore above cudart dlerror if you do not have a GPU set up on your machine.\n",
      "2024-03-05 15:11:24.473815: W tensorflow/compiler/xla/stream_executor/platform/default/dso_loader.cc:64] Could not load dynamic library 'libnvinfer.so.7'; dlerror: libnvinfer.so.7: cannot open shared object file: No such file or directory\n",
      "2024-03-05 15:11:24.473853: W tensorflow/compiler/xla/stream_executor/platform/default/dso_loader.cc:64] Could not load dynamic library 'libnvinfer_plugin.so.7'; dlerror: libnvinfer_plugin.so.7: cannot open shared object file: No such file or directory\n",
      "2024-03-05 15:11:24.473857: W tensorflow/compiler/tf2tensorrt/utils/py_utils.cc:38] TF-TRT Warning: Cannot dlopen some TensorRT libraries. If you would like to use Nvidia GPU with TensorRT, please make sure the missing libraries mentioned above are installed properly.\n"
     ]
    }
   ],
   "source": [
    "import os\n",
    "import glob\n",
    "import numpy as np\n",
    "import pandas as pd\n",
    "import eugene as eu\n",
    "import matplotlib.pyplot as plt\n",
    "from sklearn.model_selection import train_test_split"
   ]
  },
  {
   "cell_type": "markdown",
   "id": "d7a87af5",
   "metadata": {},
   "source": [
    "### Configuring"
   ]
  },
  {
   "cell_type": "code",
   "execution_count": 2,
   "id": "63ceef1c",
   "metadata": {},
   "outputs": [],
   "source": [
    "%matplotlib inline\n",
    "\n",
    "if 'autoreload' not in get_ipython().extension_manager.loaded:\n",
    "    %load_ext autoreload \n",
    "    \n",
    "%autoreload 2"
   ]
  },
  {
   "cell_type": "code",
   "execution_count": 3,
   "id": "3d6c4daa",
   "metadata": {},
   "outputs": [],
   "source": [
    "eu.settings.config_dir  = \"./tutorial_configs\"  \n",
    "eu.settings.dataset_dir = \"./eugene/datasets/janggu_resources\" \n",
    "eu.settings.logging_dir = \"./tutorial_logs\"     \n",
    "eu.settings.output_dir  = \"./tutorial_output\"   \n",
    "eu.settings.figure_dir  = \"./tutorial_figures\" "
   ]
  },
  {
   "cell_type": "markdown",
   "id": "0127c472",
   "metadata": {},
   "source": [
    "### Path"
   ]
  },
  {
   "cell_type": "code",
   "execution_count": 4,
   "id": "b68b4b25",
   "metadata": {},
   "outputs": [],
   "source": [
    "data_path = './Data/'"
   ]
  },
  {
   "cell_type": "markdown",
   "id": "77f4d36a",
   "metadata": {},
   "source": [
    "### Read Sequence Data"
   ]
  },
  {
   "cell_type": "markdown",
   "id": "89ea79f0",
   "metadata": {},
   "source": [
    "### Train "
   ]
  },
  {
   "cell_type": "code",
   "execution_count": 5,
   "id": "ac6a3399",
   "metadata": {},
   "outputs": [],
   "source": [
    "sdata_train = eu.dl.read_csv(filename= data_path + 'Train_Enhancers.csv', \n",
    "                             seq_col= 'seq',\n",
    "                             target_col= 'target',\n",
    "                             sep=',',\n",
    "                             col_names=['seq', 'target', 'seq_len'])"
   ]
  },
  {
   "cell_type": "code",
   "execution_count": 6,
   "id": "fb908fbd",
   "metadata": {},
   "outputs": [
    {
     "name": "stdout",
     "output_type": "stream",
     "text": [
      "SeqData object with = 113548 seqs\n",
      "seqs = (113548,)\n",
      "names = (113548,)\n",
      "rev_seqs = None\n",
      "ohe_seqs = None\n",
      "ohe_rev_seqs = None\n",
      "seqs_annot: 'target'\n",
      "pos_annot: None\n",
      "seqsm: None\n",
      "uns: None\n"
     ]
    }
   ],
   "source": [
    "print(sdata_train)"
   ]
  },
  {
   "cell_type": "markdown",
   "id": "93b3a80c",
   "metadata": {},
   "source": [
    "### Test"
   ]
  },
  {
   "cell_type": "code",
   "execution_count": 7,
   "id": "776f1311",
   "metadata": {},
   "outputs": [],
   "source": [
    "sdata_test = eu.dl.read_csv(filename= data_path + 'Test_Enhancers.csv', \n",
    "                            seq_col= 'seq',\n",
    "                            target_col= 'target',\n",
    "                            sep=',',\n",
    "                            col_names=['seq', 'target', 'seq_len'])"
   ]
  },
  {
   "cell_type": "code",
   "execution_count": 8,
   "id": "020e51f4",
   "metadata": {},
   "outputs": [
    {
     "name": "stdout",
     "output_type": "stream",
     "text": [
      "SeqData object with = 28356 seqs\n",
      "seqs = (28356,)\n",
      "names = (28356,)\n",
      "rev_seqs = None\n",
      "ohe_seqs = None\n",
      "ohe_rev_seqs = None\n",
      "seqs_annot: 'target'\n",
      "pos_annot: None\n",
      "seqsm: None\n",
      "uns: None\n"
     ]
    }
   ],
   "source": [
    "print(sdata_test)"
   ]
  },
  {
   "cell_type": "markdown",
   "id": "0412092e",
   "metadata": {},
   "source": [
    "### Reverse Complement of Seqs"
   ]
  },
  {
   "cell_type": "code",
   "execution_count": 9,
   "id": "2fd2fe99",
   "metadata": {},
   "outputs": [],
   "source": [
    "reverse_complement = True"
   ]
  },
  {
   "cell_type": "code",
   "execution_count": 10,
   "id": "cf06cb8e",
   "metadata": {},
   "outputs": [
    {
     "data": {
      "application/vnd.jupyter.widget-view+json": {
       "model_id": "634161ab8e8b49d4bed13b4753f9ed97",
       "version_major": 2,
       "version_minor": 0
      },
      "text/plain": [
       "Reverse complementing sequences:   0%|          | 0/113548 [00:00<?, ?it/s]"
      ]
     },
     "metadata": {},
     "output_type": "display_data"
    },
    {
     "name": "stdout",
     "output_type": "stream",
     "text": [
      "SeqData object modified:\n",
      "\trev_seqs: None -> 113548 rev_seqs added\n"
     ]
    },
    {
     "data": {
      "application/vnd.jupyter.widget-view+json": {
       "model_id": "234e6fd47ebd4cf1b9c32aad9f603c96",
       "version_major": 2,
       "version_minor": 0
      },
      "text/plain": [
       "Reverse complementing sequences:   0%|          | 0/28356 [00:00<?, ?it/s]"
      ]
     },
     "metadata": {},
     "output_type": "display_data"
    },
    {
     "name": "stdout",
     "output_type": "stream",
     "text": [
      "SeqData object modified:\n",
      "\trev_seqs: None -> 28356 rev_seqs added\n"
     ]
    }
   ],
   "source": [
    "if reverse_complement:\n",
    "    eu.pp.reverse_complement_seqs_sdata(sdata_train, vocab=\"DNA\")\n",
    "    eu.pp.reverse_complement_seqs_sdata(sdata_test,  vocab=\"DNA\")"
   ]
  },
  {
   "cell_type": "markdown",
   "id": "ecf9cc0c",
   "metadata": {},
   "source": [
    "### One-Hot Encode"
   ]
  },
  {
   "cell_type": "code",
   "execution_count": 11,
   "id": "6291cfa9",
   "metadata": {},
   "outputs": [
    {
     "data": {
      "application/vnd.jupyter.widget-view+json": {
       "model_id": "65a61799e8c446c5a1074304a98142de",
       "version_major": 2,
       "version_minor": 0
      },
      "text/plain": [
       "One-hot encoding sequences:   0%|          | 0/113548 [00:00<?, ?it/s]"
      ]
     },
     "metadata": {},
     "output_type": "display_data"
    },
    {
     "data": {
      "application/vnd.jupyter.widget-view+json": {
       "model_id": "fc5d91a6906b4fafba2d4328c8cae177",
       "version_major": 2,
       "version_minor": 0
      },
      "text/plain": [
       "One-hot encoding sequences:   0%|          | 0/113548 [00:00<?, ?it/s]"
      ]
     },
     "metadata": {},
     "output_type": "display_data"
    },
    {
     "name": "stdout",
     "output_type": "stream",
     "text": [
      "SeqData object modified:\n",
      "\tohe_seqs: None -> 113548 ohe_seqs added\n",
      "\tohe_rev_seqs: None -> 113548 ohe_rev_seqs added\n"
     ]
    },
    {
     "data": {
      "application/vnd.jupyter.widget-view+json": {
       "model_id": "1872a213d51144a1b5c7e4bd2a9b1291",
       "version_major": 2,
       "version_minor": 0
      },
      "text/plain": [
       "One-hot encoding sequences:   0%|          | 0/28356 [00:00<?, ?it/s]"
      ]
     },
     "metadata": {},
     "output_type": "display_data"
    },
    {
     "data": {
      "application/vnd.jupyter.widget-view+json": {
       "model_id": "eeb29fb664c4468b911e6c42cf5e3ab1",
       "version_major": 2,
       "version_minor": 0
      },
      "text/plain": [
       "One-hot encoding sequences:   0%|          | 0/28356 [00:00<?, ?it/s]"
      ]
     },
     "metadata": {},
     "output_type": "display_data"
    },
    {
     "name": "stdout",
     "output_type": "stream",
     "text": [
      "SeqData object modified:\n",
      "\tohe_seqs: None -> 28356 ohe_seqs added\n",
      "\tohe_rev_seqs: None -> 28356 ohe_rev_seqs added\n"
     ]
    }
   ],
   "source": [
    "eu.pp.ohe_seqs_sdata(sdata_train, vocab=\"DNA\")\n",
    "eu.pp.ohe_seqs_sdata(sdata_test , vocab=\"DNA\")"
   ]
  },
  {
   "cell_type": "markdown",
   "id": "9cda970e",
   "metadata": {},
   "source": [
    "### Data Shape"
   ]
  },
  {
   "cell_type": "markdown",
   "id": "236438c6",
   "metadata": {},
   "source": [
    "### Train"
   ]
  },
  {
   "cell_type": "code",
   "execution_count": 12,
   "id": "491a3165",
   "metadata": {},
   "outputs": [
    {
     "name": "stdout",
     "output_type": "stream",
     "text": [
      "SeqData object with = 113548 seqs\n",
      "seqs = (113548,)\n",
      "names = (113548,)\n",
      "rev_seqs = (113548,)\n",
      "ohe_seqs = (113548, 4, 400)\n",
      "ohe_rev_seqs = (113548, 4, 400)\n",
      "seqs_annot: 'target'\n",
      "pos_annot: None\n",
      "seqsm: None\n",
      "uns: None\n"
     ]
    }
   ],
   "source": [
    "print(sdata_train)"
   ]
  },
  {
   "cell_type": "code",
   "execution_count": 13,
   "id": "e6314790",
   "metadata": {},
   "outputs": [
    {
     "name": "stdout",
     "output_type": "stream",
     "text": [
      "TGACTCCCCAGCGGCCCCCTGCCCTGCAGGTATTTGCTGTCTCCTGAATATTCAAATGGACAGTCCCTCCCTCAGACTCCACCCAACGGGAGGCCTGGGCTGACTGTCCGGAGGGTGGTGCTTCCCCTTCCTTCCCAGGGCCAAAAACCAAACAAAACCCTGGTAGACATGTGATAGAATAATCATAAATACATAAAATTAGCCATGTAAATTGTGAAACATTAAGTTTCAGTTCCACAGACTGTGAAAATAGCAAAGTTTCCAACAAGGTCGAAANNNNNNNNNNNNNNNNNNNNNNNNNNNNNNNNNNNNNNNNNNNNNNNNNNNNNNNNNNNNNNNNNNNNNNNNNNNNNNNNNNNNNNNNNNNNNNNNNNNNNNNNNNNNNNNNNNNNNNNNNNNN\n",
      "**************\n",
      "NNNNNNNNNNNNNNNNNNNNNNNNNNNNNNNNNNNNNNNNNNNNNNNNNNNNNNNNNNNNNNNNNNNNNNNNNNNNNNNNNNNNNNNNNNNNNNNNNNNNNNNNNNNNNNNNNNNNNNNNNNNNTTTCGACCTTGTTGGAAACTTTGCTATTTTCACAGTCTGTGGAACTGAAACTTAATGTTTCACAATTTACATGGCTAATTTTATGTATTTATGATTATTCTATCACATGTCTACCAGGGTTTTGTTTGGTTTTTGGCCCTGGGAAGGAAGGGGAAGCACCACCCTCCGGACAGTCAGCCCAGGCCTCCCGTTGGGTGGAGTCTGAGGGAGGGACTGTCCATTTGAATATTCAGGAGACAGCAAATACCTGCAGGGCAGGGGGCCGCTGGGGAGTCA\n",
      "**************\n",
      "['seq000000' 'seq000001' 'seq000002' 'seq000003']\n",
      "**************\n",
      "[[0 0 1 0]\n",
      " [0 0 0 1]\n",
      " [0 1 0 0]\n",
      " [1 0 0 0]]\n",
      "**************\n"
     ]
    },
    {
     "data": {
      "text/html": [
       "<div>\n",
       "<style scoped>\n",
       "    .dataframe tbody tr th:only-of-type {\n",
       "        vertical-align: middle;\n",
       "    }\n",
       "\n",
       "    .dataframe tbody tr th {\n",
       "        vertical-align: top;\n",
       "    }\n",
       "\n",
       "    .dataframe thead th {\n",
       "        text-align: right;\n",
       "    }\n",
       "</style>\n",
       "<table border=\"1\" class=\"dataframe\">\n",
       "  <thead>\n",
       "    <tr style=\"text-align: right;\">\n",
       "      <th></th>\n",
       "      <th>target</th>\n",
       "    </tr>\n",
       "  </thead>\n",
       "  <tbody>\n",
       "    <tr>\n",
       "      <th>seq000000</th>\n",
       "      <td>1.0</td>\n",
       "    </tr>\n",
       "    <tr>\n",
       "      <th>seq000001</th>\n",
       "      <td>1.0</td>\n",
       "    </tr>\n",
       "    <tr>\n",
       "      <th>seq000002</th>\n",
       "      <td>1.0</td>\n",
       "    </tr>\n",
       "  </tbody>\n",
       "</table>\n",
       "</div>"
      ],
      "text/plain": [
       "           target\n",
       "seq000000     1.0\n",
       "seq000001     1.0\n",
       "seq000002     1.0"
      ]
     },
     "execution_count": 13,
     "metadata": {},
     "output_type": "execute_result"
    }
   ],
   "source": [
    "print(sdata_train.seqs[0])\n",
    "print('**************')\n",
    "if reverse_complement:\n",
    "    print(sdata_train.rev_seqs[0])\n",
    "print('**************')\n",
    "print(sdata_train.names[:4])\n",
    "print('**************')\n",
    "print(sdata_train.ohe_seqs[0,:,:4])\n",
    "print('**************')\n",
    "sdata_train.seqs_annot.head(3)"
   ]
  },
  {
   "cell_type": "markdown",
   "id": "4ff21bd4",
   "metadata": {},
   "source": [
    "### Test"
   ]
  },
  {
   "cell_type": "code",
   "execution_count": 14,
   "id": "9eac21a0",
   "metadata": {},
   "outputs": [
    {
     "name": "stdout",
     "output_type": "stream",
     "text": [
      "SeqData object with = 28356 seqs\n",
      "seqs = (28356,)\n",
      "names = (28356,)\n",
      "rev_seqs = (28356,)\n",
      "ohe_seqs = (28356, 4, 400)\n",
      "ohe_rev_seqs = (28356, 4, 400)\n",
      "seqs_annot: 'target'\n",
      "pos_annot: None\n",
      "seqsm: None\n",
      "uns: None\n"
     ]
    }
   ],
   "source": [
    "print(sdata_test)"
   ]
  },
  {
   "cell_type": "code",
   "execution_count": 15,
   "id": "804041da",
   "metadata": {},
   "outputs": [
    {
     "name": "stdout",
     "output_type": "stream",
     "text": [
      "TGTCTGCCTTCCCTCAGCCTGTGAGCACCTTGAGGACAGGTTCTGCAGCTGAGGCACGTGGGTGAATGACTGAAGGAGGGAAGGAATGCACGAATGAGTGAGCAGCTAATCTACCTGTGTTGAATGTTCCTTCCCCTCCAGTCCGTCCTGCTGATACTTCCAGTCTTTCCTTAAGTACCTTTTGGGTTTTGCTACTTCCCTCCTCAAAGTCTCTCCACAGCTCCTTGTTTCTTAGCACATCCAGTCTATGCCTTTTCCCAGTTGCGGGTCTGCCTTACTCAGCCCATGGGTCACACTCACCAAACAGCCACCTTGTCCTTCTCTGGGCCAGCCCCATGCTGGCCACTTTCCCANNNNNNNNNNNNNNNNNNNNNNNNNNNNNNNNNNNNNNNNNNNNNNN\n",
      "**************\n",
      "NNNNNNNNNNNNNNNNNNNNNNNNNNNNNNNNNNNNNNNNNNNNNNNTGGGAAAGTGGCCAGCATGGGGCTGGCCCAGAGAAGGACAAGGTGGCTGTTTGGTGAGTGTGACCCATGGGCTGAGTAAGGCAGACCCGCAACTGGGAAAAGGCATAGACTGGATGTGCTAAGAAACAAGGAGCTGTGGAGAGACTTTGAGGAGGGAAGTAGCAAAACCCAAAAGGTACTTAAGGAAAGACTGGAAGTATCAGCAGGACGGACTGGAGGGGAAGGAACATTCAACACAGGTAGATTAGCTGCTCACTCATTCGTGCATTCCTTCCCTCCTTCAGTCATTCACCCACGTGCCTCAGCTGCAGAACCTGTCCTCAAGGTGCTCACAGGCTGAGGGAAGGCAGACA\n",
      "**************\n",
      "['seq00000' 'seq00001' 'seq00002' 'seq00003']\n",
      "**************\n",
      "[[0 0 1 0]\n",
      " [0 0 0 1]\n",
      " [0 1 0 0]\n",
      " [1 0 0 0]]\n",
      "**************\n"
     ]
    },
    {
     "data": {
      "text/html": [
       "<div>\n",
       "<style scoped>\n",
       "    .dataframe tbody tr th:only-of-type {\n",
       "        vertical-align: middle;\n",
       "    }\n",
       "\n",
       "    .dataframe tbody tr th {\n",
       "        vertical-align: top;\n",
       "    }\n",
       "\n",
       "    .dataframe thead th {\n",
       "        text-align: right;\n",
       "    }\n",
       "</style>\n",
       "<table border=\"1\" class=\"dataframe\">\n",
       "  <thead>\n",
       "    <tr style=\"text-align: right;\">\n",
       "      <th></th>\n",
       "      <th>target</th>\n",
       "    </tr>\n",
       "  </thead>\n",
       "  <tbody>\n",
       "    <tr>\n",
       "      <th>seq00000</th>\n",
       "      <td>1.0</td>\n",
       "    </tr>\n",
       "    <tr>\n",
       "      <th>seq00001</th>\n",
       "      <td>1.0</td>\n",
       "    </tr>\n",
       "    <tr>\n",
       "      <th>seq00002</th>\n",
       "      <td>1.0</td>\n",
       "    </tr>\n",
       "  </tbody>\n",
       "</table>\n",
       "</div>"
      ],
      "text/plain": [
       "          target\n",
       "seq00000     1.0\n",
       "seq00001     1.0\n",
       "seq00002     1.0"
      ]
     },
     "execution_count": 15,
     "metadata": {},
     "output_type": "execute_result"
    }
   ],
   "source": [
    "print(sdata_test.seqs[0])\n",
    "print('**************')\n",
    "if reverse_complement:\n",
    "    print(sdata_test.rev_seqs[0])\n",
    "print('**************')\n",
    "print(sdata_test.names[:4])\n",
    "print('**************')\n",
    "print(sdata_train.ohe_seqs[0,:,:4])\n",
    "print('**************')\n",
    "sdata_test.seqs_annot.head(3)"
   ]
  },
  {
   "cell_type": "markdown",
   "id": "a85af290",
   "metadata": {},
   "source": [
    "### Train - Validation Split"
   ]
  },
  {
   "cell_type": "code",
   "execution_count": 16,
   "id": "48b94e43",
   "metadata": {},
   "outputs": [
    {
     "name": "stdout",
     "output_type": "stream",
     "text": [
      "SeqData object modified:\n",
      "    seqs_annot:\n",
      "        + train_val\n"
     ]
    }
   ],
   "source": [
    "eu.pp.train_test_split_sdata(sdata_train, split=0.9)"
   ]
  },
  {
   "cell_type": "code",
   "execution_count": 17,
   "id": "8dbe7ff8",
   "metadata": {},
   "outputs": [
    {
     "data": {
      "text/html": [
       "<div>\n",
       "<style scoped>\n",
       "    .dataframe tbody tr th:only-of-type {\n",
       "        vertical-align: middle;\n",
       "    }\n",
       "\n",
       "    .dataframe tbody tr th {\n",
       "        vertical-align: top;\n",
       "    }\n",
       "\n",
       "    .dataframe thead th {\n",
       "        text-align: right;\n",
       "    }\n",
       "</style>\n",
       "<table border=\"1\" class=\"dataframe\">\n",
       "  <thead>\n",
       "    <tr style=\"text-align: right;\">\n",
       "      <th></th>\n",
       "      <th>target</th>\n",
       "      <th>train_val</th>\n",
       "    </tr>\n",
       "  </thead>\n",
       "  <tbody>\n",
       "    <tr>\n",
       "      <th>seq000000</th>\n",
       "      <td>1.0</td>\n",
       "      <td>True</td>\n",
       "    </tr>\n",
       "    <tr>\n",
       "      <th>seq000001</th>\n",
       "      <td>1.0</td>\n",
       "      <td>True</td>\n",
       "    </tr>\n",
       "    <tr>\n",
       "      <th>seq000002</th>\n",
       "      <td>1.0</td>\n",
       "      <td>True</td>\n",
       "    </tr>\n",
       "  </tbody>\n",
       "</table>\n",
       "</div>"
      ],
      "text/plain": [
       "           target  train_val\n",
       "seq000000     1.0       True\n",
       "seq000001     1.0       True\n",
       "seq000002     1.0       True"
      ]
     },
     "execution_count": 17,
     "metadata": {},
     "output_type": "execute_result"
    }
   ],
   "source": [
    "sdata_train.seqs_annot.head(3)"
   ]
  },
  {
   "cell_type": "markdown",
   "id": "a6bfd7f3",
   "metadata": {},
   "source": [
    "### Data Visualization"
   ]
  },
  {
   "cell_type": "code",
   "execution_count": 18,
   "id": "54815667",
   "metadata": {},
   "outputs": [
    {
     "data": {
      "image/png": "[encoded data removed]",
      "text/plain": [
       "<Figure size 216x216 with 1 Axes>"
      ]
     },
     "metadata": {
      "needs_background": "light"
     },
     "output_type": "display_data"
    }
   ],
   "source": [
    "eu.pl.countplot(sdata_train, keys=[\"target\"], figsize=(3, 3))"
   ]
  },
  {
   "cell_type": "code",
   "execution_count": 19,
   "id": "63e31351",
   "metadata": {},
   "outputs": [
    {
     "data": {
      "image/png": "[encoded data removed]",
      "text/plain": [
       "<Figure size 216x216 with 1 Axes>"
      ]
     },
     "metadata": {
      "needs_background": "light"
     },
     "output_type": "display_data"
    }
   ],
   "source": [
    "eu.pl.countplot(sdata_test, keys=[\"target\"], figsize=(3, 3))"
   ]
  },
  {
   "cell_type": "markdown",
   "id": "4fddd6c5",
   "metadata": {},
   "source": [
    "## DeepSEA Model"
   ]
  },
  {
   "cell_type": "code",
   "execution_count": 20,
   "id": "2f374806",
   "metadata": {},
   "outputs": [],
   "source": [
    "input_seq_len = 400\n",
    "\n",
    "if reverse_complement:\n",
    "    strand_type= \"ds\"\n",
    "else:\n",
    "    strand_type= \"ss\""
   ]
  },
  {
   "cell_type": "code",
   "execution_count": 21,
   "id": "a866bc86",
   "metadata": {},
   "outputs": [
    {
     "name": "stdout",
     "output_type": "stream",
     "text": [
      "Model: DeepSEA\n",
      "Input length: 400\n",
      "Output dimension: 1\n",
      "Strand: ds\n",
      "Task: binary_classification\n",
      "Aggregation: None\n",
      "Loss function: binary_cross_entropy_with_logits\n",
      "Optimizer: adam\n",
      "\tOptimizer parameters: {}\n",
      "Learning rate: 0.001\n",
      "Scheduler: lr_scheduler\n",
      "Scheduler patience: 2\n"
     ]
    },
    {
     "data": {
      "text/plain": [
       "  | Name      | Type                      | Params\n",
       "--------------------------------------------------------\n",
       "0 | hp_metric | BinaryAUROC               | 0     \n",
       "1 | convnet   | BasicConv1D               | 4.9 M \n",
       "2 | fcn       | BasicFullyConnectedModule | 13.3 M\n",
       "--------------------------------------------------------\n",
       "18.2 M    Trainable params\n",
       "0         Non-trainable params\n",
       "18.2 M    Total params\n",
       "72.996    Total estimated model params size (MB)"
      ]
     },
     "execution_count": 21,
     "metadata": {},
     "output_type": "execute_result"
    }
   ],
   "source": [
    "DeepSEA_model = eu.models.DeepSEA(input_len= input_seq_len, \n",
    "                                  output_dim= 1, \n",
    "                                  strand= strand_type, \n",
    "                                  task= \"binary_classification\", \n",
    "                                  loss_fxn= \"bce\", \n",
    "                                  optimizer= \"adam\")\n",
    "DeepSEA_model.summary()"
   ]
  },
  {
   "cell_type": "markdown",
   "id": "acc8fd9f",
   "metadata": {},
   "source": [
    "### Model Weight Initialization"
   ]
  },
  {
   "cell_type": "code",
   "execution_count": 22,
   "id": "8a5ae7a9",
   "metadata": {},
   "outputs": [],
   "source": [
    "eu.models.init_weights(DeepSEA_model)"
   ]
  },
  {
   "cell_type": "markdown",
   "id": "1bce9c46",
   "metadata": {},
   "source": [
    "### Training"
   ]
  },
  {
   "cell_type": "code",
   "execution_count": 23,
   "id": "d5933c40",
   "metadata": {},
   "outputs": [],
   "source": [
    "number_epochs = 20\n",
    "batch_size = 128\n",
    "\n",
    "if reverse_complement:\n",
    "    version = \"ds_DeepBind_model\"\n",
    "else:\n",
    "    version = \"ss_DeepSEA_model\""
   ]
  },
  {
   "cell_type": "code",
   "execution_count": null,
   "id": "a7d22309",
   "metadata": {
    "scrolled": false
   },
   "outputs": [
    {
     "name": "stderr",
     "output_type": "stream",
     "text": [
      "Global seed set to 13\n"
     ]
    },
    {
     "name": "stdout",
     "output_type": "stream",
     "text": [
      "Dropping 0 sequences with NaN targets.\n"
     ]
    },
    {
     "name": "stderr",
     "output_type": "stream",
     "text": [
      "GPU available: False, used: False\n"
     ]
    },
    {
     "name": "stdout",
     "output_type": "stream",
     "text": [
      "No transforms given, assuming just need to tensorize.\n",
      "No transforms given, assuming just need to tensorize.\n"
     ]
    },
    {
     "name": "stderr",
     "output_type": "stream",
     "text": [
      "TPU available: False, using: 0 TPU cores\n",
      "IPU available: False, using: 0 IPUs\n",
      "\n",
      "  | Name      | Type                      | Params\n",
      "--------------------------------------------------------\n",
      "0 | hp_metric | BinaryAUROC               | 0     \n",
      "1 | convnet   | BasicConv1D               | 4.9 M \n",
      "2 | fcn       | BasicFullyConnectedModule | 13.3 M\n",
      "--------------------------------------------------------\n",
      "18.2 M    Trainable params\n",
      "0         Non-trainable params\n",
      "18.2 M    Total params\n",
      "72.996    Total estimated model params size (MB)\n"
     ]
    },
    {
     "data": {
      "application/vnd.jupyter.widget-view+json": {
       "model_id": "",
       "version_major": 2,
       "version_minor": 0
      },
      "text/plain": [
       "Validation sanity check: 0it [00:00, ?it/s]"
      ]
     },
     "metadata": {},
     "output_type": "display_data"
    },
    {
     "name": "stderr",
     "output_type": "stream",
     "text": [
      "/home/behrooz/anaconda3/envs/eugene/lib/python3.10/site-packages/pytorch_lightning/trainer/data_loading.py:132: UserWarning: The dataloader, val_dataloader 0, does not have many workers which may be a bottleneck. Consider increasing the value of the `num_workers` argument` (try 8 which is the number of cpus on this machine) in the `DataLoader` init to improve performance.\n",
      "  rank_zero_warn(\n",
      "/home/behrooz/anaconda3/envs/eugene/lib/python3.10/site-packages/torchmetrics/utilities/prints.py:36: UserWarning: No negative samples in targets, false positive value should be meaningless. Returning zero tensor in false positive score\n",
      "  warnings.warn(*args, **kwargs)\n",
      "Global seed set to 13\n",
      "/home/behrooz/anaconda3/envs/eugene/lib/python3.10/site-packages/pytorch_lightning/trainer/data_loading.py:132: UserWarning: The dataloader, train_dataloader, does not have many workers which may be a bottleneck. Consider increasing the value of the `num_workers` argument` (try 8 which is the number of cpus on this machine) in the `DataLoader` init to improve performance.\n",
      "  rank_zero_warn(\n"
     ]
    },
    {
     "data": {
      "application/vnd.jupyter.widget-view+json": {
       "model_id": "af98e238cbe44573987d318b1a2f0728",
       "version_major": 2,
       "version_minor": 0
      },
      "text/plain": [
       "Training: 0it [00:00, ?it/s]"
      ]
     },
     "metadata": {},
     "output_type": "display_data"
    }
   ],
   "source": [
    "eu.train.fit(model= DeepSEA_model, \n",
    "             sdata= sdata_train, \n",
    "             gpus= 0, \n",
    "             target_keys= \"target\", \n",
    "             train_key= \"train_val\", \n",
    "             epochs= number_epochs, \n",
    "             batch_size= batch_size, \n",
    "             num_workers= 0, \n",
    "             seed= 13, \n",
    "             version= version)"
   ]
  },
  {
   "cell_type": "markdown",
   "id": "29efe328",
   "metadata": {},
   "source": [
    "## Evaluation SS"
   ]
  },
  {
   "cell_type": "markdown",
   "id": "321ba21a",
   "metadata": {},
   "source": [
    "### Loss "
   ]
  },
  {
   "cell_type": "code",
   "execution_count": 24,
   "id": "fa73abee",
   "metadata": {},
   "outputs": [],
   "source": [
    "if reverse_complement:\n",
    "    log_path = os.path.join(eu.settings.logging_dir, \"dsDeepSEA_binary_classification\", \"ds_DeepSEA_model\")\n",
    "else:\n",
    "    log_path = os.path.join(eu.settings.logging_dir, \"ssDeepSEA_binary_classification\", \"ss_DeepSEA_model\")"
   ]
  },
  {
   "cell_type": "code",
   "execution_count": 25,
   "id": "c354037b",
   "metadata": {},
   "outputs": [
    {
     "data": {
      "image/png": "[encoded data removed]",
      "text/plain": [
       "<Figure size 864x288 with 2 Axes>"
      ]
     },
     "metadata": {
      "needs_background": "light"
     },
     "output_type": "display_data"
    }
   ],
   "source": [
    "eu.pl.training_summary(log_path, \n",
    "                       metric=\"auroc\", \n",
    "                       figsize=(12, 4))\n",
    "\n",
    "plt.show()"
   ]
  },
  {
   "cell_type": "markdown",
   "id": "3b99bce3",
   "metadata": {},
   "source": [
    "### Load Best Model"
   ]
  },
  {
   "cell_type": "code",
   "execution_count": 26,
   "id": "61dc02ae",
   "metadata": {},
   "outputs": [],
   "source": [
    "model_file_DeepSEA = glob.glob(os.path.join(log_path, \"checkpoints\", \"*\"))[0]\n",
    "\n",
    "best_model_DeepSEA = eu.models.DeepSEA.load_from_checkpoint(model_file_DeepSEA)"
   ]
  },
  {
   "cell_type": "markdown",
   "id": "6d45c501",
   "metadata": {},
   "source": [
    "### AUC on Test"
   ]
  },
  {
   "cell_type": "code",
   "execution_count": 27,
   "id": "e0ba8cdc",
   "metadata": {},
   "outputs": [
    {
     "name": "stderr",
     "output_type": "stream",
     "text": [
      "GPU available: False, used: False\n",
      "TPU available: False, using: 0 TPU cores\n",
      "IPU available: False, using: 0 IPUs\n"
     ]
    },
    {
     "name": "stdout",
     "output_type": "stream",
     "text": [
      "No transforms given, assuming just need to tensorize.\n"
     ]
    },
    {
     "name": "stderr",
     "output_type": "stream",
     "text": [
      "/home/behrooz/anaconda3/envs/eugene/lib/python3.10/site-packages/pytorch_lightning/trainer/data_loading.py:132: UserWarning: The dataloader, predict_dataloader 0, does not have many workers which may be a bottleneck. Consider increasing the value of the `num_workers` argument` (try 8 which is the number of cpus on this machine) in the `DataLoader` init to improve performance.\n",
      "  rank_zero_warn(\n"
     ]
    },
    {
     "data": {
      "application/vnd.jupyter.widget-view+json": {
       "model_id": "226805d97f7d44018a2eee6ad53677d7",
       "version_major": 2,
       "version_minor": 0
      },
      "text/plain": [
       "Predicting: 0it [00:00, ?it/s]"
      ]
     },
     "metadata": {},
     "output_type": "display_data"
    },
    {
     "name": "stdout",
     "output_type": "stream",
     "text": [
      "SeqData object modified:\n",
      "    seqs_annot:\n",
      "        + ss_DeepSEA_model_target_predictions\n"
     ]
    }
   ],
   "source": [
    "eu.evaluate.predictions(best_model_DeepSEA, \n",
    "                        sdata= sdata_test, \n",
    "                        target_keys= \"target\", \n",
    "                        version= version,\n",
    "                        file_label= \"test\", \n",
    "                        prefix= f\"ss_DeepSEA_model_\")"
   ]
  },
  {
   "cell_type": "code",
   "execution_count": 28,
   "id": "05fb7d6e",
   "metadata": {},
   "outputs": [
    {
     "data": {
      "image/png": "[encoded data removed]",
      "text/plain": [
       "<Figure size 504x360 with 1 Axes>"
      ]
     },
     "metadata": {
      "needs_background": "light"
     },
     "output_type": "display_data"
    }
   ],
   "source": [
    "eu.pl.auroc(sdata_test, \n",
    "            target_keys= \"target\", \n",
    "            prediction_keys= version + \"_target_predictions\", \n",
    "            figsize= (7, 5))\n",
    "\n",
    "plt.show()"
   ]
  },
  {
   "cell_type": "markdown",
   "id": "0787d9b5",
   "metadata": {},
   "source": [
    "### Interpretation with Test"
   ]
  },
  {
   "cell_type": "markdown",
   "id": "ce3a2c32",
   "metadata": {},
   "source": [
    "### Filter Visualization "
   ]
  },
  {
   "cell_type": "code",
   "execution_count": null,
   "id": "730f55b2",
   "metadata": {},
   "outputs": [],
   "source": [
    "eu.interpret.generate_pfms_sdata(model=best_model_DeepSEA, sdata=sdata_test, method=\"Minnoye20\")"
   ]
  },
  {
   "cell_type": "code",
   "execution_count": null,
   "id": "a77699a6",
   "metadata": {},
   "outputs": [],
   "source": [
    "eu.pl.multifilter_viz(sdata_test, filter_ids=list(sdata_test.uns[\"pfms\"].keys()), num_rows=5, num_cols=3)"
   ]
  },
  {
   "cell_type": "markdown",
   "id": "f60d7c3b",
   "metadata": {},
   "source": [
    "### DeepLift"
   ]
  },
  {
   "cell_type": "code",
   "execution_count": null,
   "id": "122757cd",
   "metadata": {},
   "outputs": [],
   "source": [
    "top3 = sdata_test[version + \"_target_predictions\"].sort_values(ascending=False).iloc[:3].index\n",
    "bot3 = sdata_test[version + \"_target_predictions\"].sort_values(ascending=True).iloc[:3].index\n",
    "print(top3)\n",
    "print(bot3)"
   ]
  },
  {
   "cell_type": "code",
   "execution_count": null,
   "id": "8103ef5d",
   "metadata": {},
   "outputs": [],
   "source": [
    "eu.interpret.feature_attribution_sdata(model=best_model_DeepSEA, sdata=sdata_test, method=\"DeepLift\")"
   ]
  },
  {
   "cell_type": "code",
   "execution_count": null,
   "id": "8e1bd367",
   "metadata": {},
   "outputs": [],
   "source": [
    "for top in top3:\n",
    "    eu.pl.seq_track(sdata_test, seq_id=top, uns_key=\"DeepLift_imps\", ylab=\"DeepLift\", figsize=(30,3))\n",
    "    plt.show()"
   ]
  },
  {
   "cell_type": "code",
   "execution_count": null,
   "id": "577abac1",
   "metadata": {},
   "outputs": [],
   "source": [
    "for bot in bot3:\n",
    "    eu.pl.seq_track(sdata_test, seq_id=bot, uns_key=\"DeepLift_imps\", ylab=\"DeepLift\", figsize=(30,3))\n",
    "    plt.show()"
   ]
  },
  {
   "cell_type": "markdown",
   "id": "59851db4",
   "metadata": {},
   "source": [
    "### InputXGradient "
   ]
  },
  {
   "cell_type": "code",
   "execution_count": null,
   "id": "19c9e749",
   "metadata": {},
   "outputs": [],
   "source": [
    "eu.interpret.feature_attribution_sdata(model=best_model_DeepSEA, sdata=sdata_test, method=\"InputXGradient\")"
   ]
  },
  {
   "cell_type": "code",
   "execution_count": null,
   "id": "2c65beab",
   "metadata": {},
   "outputs": [],
   "source": [
    "for top in top3:\n",
    "    eu.pl.seq_track(sdata_test, seq_id=top, uns_key=\"InputXGradient_imps\", ylab=\"InputXGradient Forward\", \n",
    "                    figsize=(30,3))\n",
    "    plt.show()"
   ]
  },
  {
   "cell_type": "code",
   "execution_count": null,
   "id": "70de2b63",
   "metadata": {},
   "outputs": [],
   "source": [
    "for bot in bot3:\n",
    "    eu.pl.seq_track(sdata_test, seq_id=bot, uns_key=\"InputXGradient_imps\", ylab=\"InputXGradient Forward\", \n",
    "                    figsize=(30,3))\n",
    "    plt.show()"
   ]
  },
  {
   "cell_type": "markdown",
   "id": "3f735a97",
   "metadata": {},
   "source": [
    "## Evaluation DS"
   ]
  },
  {
   "cell_type": "markdown",
   "id": "95eec525",
   "metadata": {},
   "source": [
    "### Loss "
   ]
  },
  {
   "cell_type": "code",
   "execution_count": null,
   "id": "da61a19d",
   "metadata": {},
   "outputs": [],
   "source": [
    "if reverse_complement:\n",
    "    log_path = os.path.join(eu.settings.logging_dir, \"dsDeepSEA_binary_classification\", \"ds_DeepSEA_model\")\n",
    "else:\n",
    "    log_path = os.path.join(eu.settings.logging_dir, \"ssDeepSEA_binary_classification\", \"ss_DeepSEA_model\")"
   ]
  },
  {
   "cell_type": "code",
   "execution_count": null,
   "id": "5cc09fc1",
   "metadata": {},
   "outputs": [],
   "source": [
    "eu.pl.training_summary(log_path, \n",
    "                       metric=\"auroc\", \n",
    "                       figsize=(12, 4))\n",
    "\n",
    "plt.show()"
   ]
  },
  {
   "cell_type": "markdown",
   "id": "f8319862",
   "metadata": {},
   "source": [
    "### Load Best Model"
   ]
  },
  {
   "cell_type": "code",
   "execution_count": null,
   "id": "1dabc7c8",
   "metadata": {},
   "outputs": [],
   "source": [
    "model_file_DeepSEA = glob.glob(os.path.join(log_path, \"checkpoints\", \"*\"))[0]\n",
    "\n",
    "best_model_DeepSEA = eu.models.DeepSEA.load_from_checkpoint(model_file_DeepSEA)"
   ]
  },
  {
   "cell_type": "markdown",
   "id": "4cc8ee8c",
   "metadata": {},
   "source": [
    "### AUC on Test"
   ]
  },
  {
   "cell_type": "code",
   "execution_count": null,
   "id": "7e5d5fb0",
   "metadata": {},
   "outputs": [],
   "source": [
    "eu.evaluate.predictions(best_model_DeepSEA, \n",
    "                        sdata= sdata_test, \n",
    "                        target_keys= \"target\", \n",
    "                        version= version,\n",
    "                        file_label= \"test\", \n",
    "                        prefix= f\"ds_DeepSEA_model_\")"
   ]
  },
  {
   "cell_type": "code",
   "execution_count": null,
   "id": "913fc756",
   "metadata": {},
   "outputs": [],
   "source": [
    "eu.pl.auroc(sdata_test, \n",
    "            target_keys= \"target\", \n",
    "            prediction_keys= version + \"_target_predictions\", \n",
    "            figsize=(7, 5))\n",
    "\n",
    "plt.show()"
   ]
  },
  {
   "cell_type": "markdown",
   "id": "472924d2",
   "metadata": {},
   "source": [
    "### Interpretation with Test"
   ]
  },
  {
   "cell_type": "markdown",
   "id": "496ddf76",
   "metadata": {},
   "source": [
    "### Filter Visualization "
   ]
  },
  {
   "cell_type": "code",
   "execution_count": null,
   "id": "22b08ada",
   "metadata": {},
   "outputs": [],
   "source": [
    "eu.interpret.generate_pfms_sdata(model=best_model_DeepSEA, sdata=sdata_test, method=\"Minnoye20\")"
   ]
  },
  {
   "cell_type": "code",
   "execution_count": null,
   "id": "d81b86d8",
   "metadata": {},
   "outputs": [],
   "source": [
    "eu.pl.multifilter_viz(sdata_test, filter_ids=list(sdata_test.uns[\"pfms\"].keys()), num_rows=5, num_cols=3)"
   ]
  },
  {
   "cell_type": "code",
   "execution_count": null,
   "id": "3f5b080a",
   "metadata": {},
   "outputs": [],
   "source": []
  }
 ],
 "metadata": {
  "kernelspec": {
   "display_name": "snp",
   "language": "python",
   "name": "snp"
  },
  "language_info": {
   "codemirror_mode": {
    "name": "ipython",
    "version": 3
   },
   "file_extension": ".py",
   "mimetype": "text/x-python",
   "name": "python",
   "nbconvert_exporter": "python",
   "pygments_lexer": "ipython3",
   "version": "3.11.0"
  }
 },
 "nbformat": 4,
 "nbformat_minor": 5
}
