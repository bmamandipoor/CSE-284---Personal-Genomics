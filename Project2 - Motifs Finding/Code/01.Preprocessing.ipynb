{
 "cells": [
  {
   "cell_type": "markdown",
   "id": "cbf1cddf",
   "metadata": {},
   "source": [
    "### Import"
   ]
  },
  {
   "cell_type": "code",
   "execution_count": 1,
   "id": "d984f8a0",
   "metadata": {},
   "outputs": [
    {
     "name": "stderr",
     "output_type": "stream",
     "text": [
      "/home/behrooz/anaconda3/envs/snp/lib/python3.11/site-packages/genomic_benchmarks/utils/datasets.py:11: TqdmExperimentalWarning: Using `tqdm.autonotebook.tqdm` in notebook mode. Use `tqdm.tqdm` instead to force console mode (e.g. in jupyter console)\n",
      "  from tqdm.autonotebook import tqdm\n"
     ]
    }
   ],
   "source": [
    "import os\n",
    "import glob\n",
    "import numpy as np\n",
    "import pandas as pd\n",
    "import seaborn as sns\n",
    "import matplotlib.pyplot as plt\n",
    "\n",
    "from genomic_benchmarks.data_check import info\n",
    "from genomic_benchmarks.loc2seq import download_dataset"
   ]
  },
  {
   "cell_type": "markdown",
   "id": "cb3c1a9b",
   "metadata": {},
   "source": [
    "### Download Datasets"
   ]
  },
  {
   "cell_type": "code",
   "execution_count": 2,
   "id": "5de3e93b",
   "metadata": {},
   "outputs": [
    {
     "name": "stdout",
     "output_type": "stream",
     "text": [
      "Dataset `human_enhancers_ensembl` has 2 classes: negative, positive.\n",
      "\n",
      "The length of genomic intervals ranges from 2 to 573, with average 268.8641324705183 and median 269.0.\n",
      "\n",
      "Totally 154842 sequences have been found, 123872 for training and 30970 for testing.\n"
     ]
    },
    {
     "data": {
      "text/html": [
       "<div>\n",
       "<style scoped>\n",
       "    .dataframe tbody tr th:only-of-type {\n",
       "        vertical-align: middle;\n",
       "    }\n",
       "\n",
       "    .dataframe tbody tr th {\n",
       "        vertical-align: top;\n",
       "    }\n",
       "\n",
       "    .dataframe thead th {\n",
       "        text-align: right;\n",
       "    }\n",
       "</style>\n",
       "<table border=\"1\" class=\"dataframe\">\n",
       "  <thead>\n",
       "    <tr style=\"text-align: right;\">\n",
       "      <th></th>\n",
       "      <th>train</th>\n",
       "      <th>test</th>\n",
       "    </tr>\n",
       "  </thead>\n",
       "  <tbody>\n",
       "    <tr>\n",
       "      <th>negative</th>\n",
       "      <td>61936</td>\n",
       "      <td>15485</td>\n",
       "    </tr>\n",
       "    <tr>\n",
       "      <th>positive</th>\n",
       "      <td>61936</td>\n",
       "      <td>15485</td>\n",
       "    </tr>\n",
       "  </tbody>\n",
       "</table>\n",
       "</div>"
      ],
      "text/plain": [
       "          train   test\n",
       "negative  61936  15485\n",
       "positive  61936  15485"
      ]
     },
     "execution_count": 2,
     "metadata": {},
     "output_type": "execute_result"
    }
   ],
   "source": [
    "info(\"human_enhancers_ensembl\", version=0)"
   ]
  },
  {
   "cell_type": "code",
   "execution_count": 3,
   "id": "bee6480b",
   "metadata": {},
   "outputs": [],
   "source": [
    "# download_dataset(\"human_enhancers_ensembl\", version=0)"
   ]
  },
  {
   "cell_type": "markdown",
   "id": "a5e7252a",
   "metadata": {},
   "source": [
    "### Path"
   ]
  },
  {
   "cell_type": "code",
   "execution_count": 4,
   "id": "1c047dd9",
   "metadata": {},
   "outputs": [],
   "source": [
    "enhancers_train_positive = '/home/behrooz/BehroozDir/UCSD Course/Genomics/Project/Genomics/Data/human_enhancers_ensembl/train/positive/'\n",
    "enhancers_train_negative = '/home/behrooz/BehroozDir/UCSD Course/Genomics/Project/Genomics/Data/human_enhancers_ensembl/train/negative/'\n",
    "enhancers_test_positive  = '/home/behrooz/BehroozDir/UCSD Course/Genomics/Project/Genomics/Data/human_enhancers_ensembl/test/positive/'\n",
    "enhancers_test_negative  = '/home/behrooz/BehroozDir/UCSD Course/Genomics/Project/Genomics/Data/human_enhancers_ensembl/test/negative/'\n",
    "\n",
    "output_dir = '/home/behrooz/BehroozDir/UCSD Course/Genomics/Project/Genomics/Data/'"
   ]
  },
  {
   "cell_type": "markdown",
   "id": "c0f04c15",
   "metadata": {},
   "source": [
    "### Read DNA"
   ]
  },
  {
   "cell_type": "code",
   "execution_count": 5,
   "id": "a086db30",
   "metadata": {},
   "outputs": [],
   "source": [
    "def read_dna_sequences(folder_path, label='positive'):\n",
    "    \n",
    "    data = []\n",
    "    \n",
    "    for file in os.listdir(folder_path):\n",
    "        if file.endswith(\".txt\"):\n",
    "            file_path = os.path.join(folder_path, file)\n",
    "            with open(file_path, 'r') as file:\n",
    "                dna_sequence = file.readline().strip()\n",
    "                data.append({'seq': dna_sequence})\n",
    "    \n",
    "    df = pd.DataFrame(data)\n",
    "    \n",
    "    if label == 'positive':\n",
    "        df['target'] = 1 \n",
    "    elif label == 'negative':\n",
    "        df['target'] = 0\n",
    "        \n",
    "    df['seq_len'] = df['seq'].apply(len)\n",
    "     \n",
    "    return df"
   ]
  },
  {
   "cell_type": "markdown",
   "id": "16342105",
   "metadata": {},
   "source": [
    "### Enhancers"
   ]
  },
  {
   "cell_type": "code",
   "execution_count": 6,
   "id": "cd9d6a1c",
   "metadata": {},
   "outputs": [],
   "source": [
    "enh_tr_pos = read_dna_sequences(enhancers_train_positive, 'positive')\n",
    "enh_tr_neg = read_dna_sequences(enhancers_train_negative, 'negative')\n",
    "enh_ts_pos = read_dna_sequences(enhancers_test_positive , 'positive')\n",
    "enh_ts_neg = read_dna_sequences(enhancers_test_negative , 'negative')"
   ]
  },
  {
   "cell_type": "code",
   "execution_count": 7,
   "id": "f67de3f5",
   "metadata": {},
   "outputs": [],
   "source": [
    "concat_enh_tr_df = [enh_tr_pos, enh_tr_neg]\n",
    "concat_enh_ts_df = [enh_ts_pos, enh_ts_neg]\n",
    "\n",
    "df_enh_train = pd.concat(concat_enh_tr_df)\n",
    "df_enh_test  = pd.concat(concat_enh_ts_df)\n",
    "\n",
    "df_enh_train = df_enh_train.reset_index(drop=True)\n",
    "df_enh_test  = df_enh_test.reset_index(drop=True)"
   ]
  },
  {
   "cell_type": "markdown",
   "id": "ad19591b",
   "metadata": {},
   "source": [
    "### Sequence Length Plot"
   ]
  },
  {
   "cell_type": "code",
   "execution_count": 8,
   "id": "bc0239a4",
   "metadata": {},
   "outputs": [
    {
     "data": {
      "image/png": "[encoded data removed]",
      "text/plain": [
       "<Figure size 1296x288 with 1 Axes>"
      ]
     },
     "metadata": {
      "needs_background": "light"
     },
     "output_type": "display_data"
    }
   ],
   "source": [
    "plt.figure(figsize=(18, 4))\n",
    "sns.set(font_scale= 1)\n",
    "sns.set_style(style='white')\n",
    "sns.histplot(data=df_enh_train, x='seq_len', kde=True, stat='count', bins=100, fill=True, legend=True)\n",
    "plt.show()"
   ]
  },
  {
   "cell_type": "code",
   "execution_count": 9,
   "id": "56d0b94f",
   "metadata": {},
   "outputs": [
    {
     "data": {
      "image/png": "[encoded data removed]",
      "text/plain": [
       "<Figure size 1296x288 with 1 Axes>"
      ]
     },
     "metadata": {},
     "output_type": "display_data"
    }
   ],
   "source": [
    "plt.figure(figsize=(18, 4))\n",
    "sns.set(font_scale= 1)\n",
    "sns.set_style(style='white')\n",
    "sns.histplot(data=df_enh_test, x='seq_len', kde=True, stat='count', bins=100, fill=True, legend=True)\n",
    "plt.show()"
   ]
  },
  {
   "cell_type": "markdown",
   "id": "e5a26fef",
   "metadata": {},
   "source": [
    "### Remove Short Reads"
   ]
  },
  {
   "cell_type": "code",
   "execution_count": 10,
   "id": "67c9bc06",
   "metadata": {},
   "outputs": [],
   "source": [
    "minimum_seq_length = 100\n",
    "\n",
    "df_enh_train = df_enh_train[df_enh_train.seq_len > minimum_seq_length]\n",
    "df_enh_test  = df_enh_test[df_enh_test.seq_len   > minimum_seq_length]"
   ]
  },
  {
   "cell_type": "markdown",
   "id": "ea8c3862",
   "metadata": {},
   "source": [
    "### Set Sequence Length"
   ]
  },
  {
   "cell_type": "code",
   "execution_count": 11,
   "id": "2b1c0f7b",
   "metadata": {},
   "outputs": [],
   "source": [
    "def adjust_dna_sequence_length(dna_sequence):\n",
    "\n",
    "    desired_length = 400\n",
    "    \n",
    "    if len(dna_sequence) > desired_length:\n",
    "        return dna_sequence[:desired_length]\n",
    "    else:\n",
    "        padding_length = desired_length - len(dna_sequence)\n",
    "        return dna_sequence + 'N' * padding_length"
   ]
  },
  {
   "cell_type": "code",
   "execution_count": 12,
   "id": "60088442",
   "metadata": {},
   "outputs": [],
   "source": [
    "df_enh_train['seq'] = df_enh_train['seq'].apply(adjust_dna_sequence_length)\n",
    "df_enh_test['seq']  = df_enh_test['seq'].apply(adjust_dna_sequence_length)"
   ]
  },
  {
   "cell_type": "code",
   "execution_count": 13,
   "id": "62d373d7",
   "metadata": {},
   "outputs": [],
   "source": [
    "df_enh_train = df_enh_train.reset_index(drop=True)\n",
    "df_enh_test  = df_enh_test.reset_index(drop=True)"
   ]
  },
  {
   "cell_type": "code",
   "execution_count": 14,
   "id": "a203b0a3",
   "metadata": {},
   "outputs": [],
   "source": [
    "df_enh_train.to_csv(output_dir + 'Train_Enhancers.csv', index=False)\n",
    "df_enh_test.to_csv(output_dir  + 'Test_Enhancers.csv' , index=False)"
   ]
  },
  {
   "cell_type": "code",
   "execution_count": null,
   "id": "57eb7659",
   "metadata": {},
   "outputs": [],
   "source": []
  }
 ],
 "metadata": {
  "kernelspec": {
   "display_name": "snp",
   "language": "python",
   "name": "snp"
  },
  "language_info": {
   "codemirror_mode": {
    "name": "ipython",
    "version": 3
   },
   "file_extension": ".py",
   "mimetype": "text/x-python",
   "name": "python",
   "nbconvert_exporter": "python",
   "pygments_lexer": "ipython3",
   "version": "3.11.0"
  }
 },
 "nbformat": 4,
 "nbformat_minor": 5
}
